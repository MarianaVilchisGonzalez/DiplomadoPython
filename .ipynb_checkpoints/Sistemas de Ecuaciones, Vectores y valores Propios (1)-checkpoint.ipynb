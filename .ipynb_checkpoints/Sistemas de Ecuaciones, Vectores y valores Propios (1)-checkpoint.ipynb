{
 "cells": [
  {
   "cell_type": "markdown",
   "id": "f8b81a8b",
   "metadata": {},
   "source": [
    "<hr>\n",
    "<h3>Rango de una matriz</h3>\n",
    "\n",
    "\n",
    "El rango de una matriz es el número máximo de columnas (filas respectivamente) que son linealmente independientes. El rango fila y el rango columna siempre son iguales: este número es llamado simplemente rango de A. Comúnmente se expresa como $rg(A)$. En Python nos apoyaremos de la sublibrería <code>linalg</code> de <code>numpy</code> y de la función <code>matrix_rank</code> para poder conocer el rango de una matriz.\n",
    "\n",
    "<h4>Dependencia Lineal</h4>\n",
    "\n",
    "Se dice que un conjunto de  $n$  vectores son linealmente dependientes si existen escalares  $\\alpha_{i}$  no todos cero, tales que:\n",
    "\n",
    "$$\\alpha_1\\vec{x_1} +  \\alpha_2\\vec{x_2} + \\cdots + \\alpha_n\\vec{x_n} = 0$$\n",
    "\n",
    "tomemos por ejemplo los renglones de la matriz $A$:\n",
    "\n",
    "$$A_3 = \n",
    "\\begin{bmatrix}\n",
    "1 & 2 & 3\\\\\n",
    "4 & 5 & 6\\\\\n",
    "7 & 8 & 9\\\\\n",
    "\\end{bmatrix}\n",
    "$$\n",
    "\n",
    "Si tomamos $\\alpha_1 = 1$, $\\alpha_2 = -2$ y $\\alpha_3 = 1$ vemos que se cumple que:\n",
    "\n",
    "$$\n",
    "\\begin{bmatrix}\n",
    "1\\\\\n",
    "2\\\\\n",
    "3\\\\\n",
    "\\end{bmatrix}\n",
    "-\n",
    "2\n",
    "\\begin{bmatrix}\n",
    "4\\\\\n",
    "5\\\\\n",
    "6\\\\\n",
    "\\end{bmatrix}\n",
    "+\n",
    "\\begin{bmatrix}\n",
    "7\\\\\n",
    "8\\\\\n",
    "9\\\\\n",
    "\\end{bmatrix}\n",
    "= 0\n",
    "$$\n",
    " \n",
    "\n",
    "El rango de una matriz nos puede ayudar a saber si un sistema de ecuaciones tiene solución, utilizando el siguiente teorema:\n",
    "\n",
    "- Un sistema de m ecuaciones con n incógnitas $AX = B$ tiene solución si y solo si $rg(A) = rg(A|B) = r$, y en este caso si $r = n$, entonces el sistema tiene una única solución, y si $r < n$ el sistema tiene infinitas soluciones."
   ]
  },
  {
   "cell_type": "code",
   "execution_count": 4,
   "id": "714572fb",
   "metadata": {},
   "outputs": [],
   "source": [
    "import numpy as np\n",
    "from sympy import *\n",
    "import matplotlib.pyplot as plt\n",
    "from jupyterthemes import jtplot\n",
    "\n",
    "#especial\n",
    "from matplotlib.animation import FuncAnimation\n",
    "from IPython.display import HTML"
   ]
  },
  {
   "cell_type": "markdown",
   "id": "d984a26b",
   "metadata": {},
   "source": [
    "<h2>Sistemas de ecuaciones</h2>\n",
    "\n",
    "Otra aplicación que le podemos dar a las matrices y a sus determinantes es al resolver sistemas de ecuaciones, los sistemas de ecuaciones los podremos clasificar en 3 tipos según si estos tienen una (determinados), infinitas (indeterminados), o ninguna (incompatibles) tomemos como ejemplo el siguiente sistema:\n",
    "\n",
    "$$\n",
    "\\begin{eqnarray}\n",
    "3x + 2y + z  = 1 \\\\\n",
    "5x + 3y + 4z = 2 \\\\\n",
    "x + y - z = 1\n",
    "\\nonumber\n",
    "\\end{eqnarray}\n",
    "$$\n",
    "\n",
    "\n",
    "Dicho sistema lo podremos expresar de forma matricial de la siguiente forma:\n",
    "\n",
    "$$\n",
    "\\begin{bmatrix}\n",
    "3 & 2 & 1 \\\\\n",
    "5 & 3 & 4 \\\\\n",
    "1 & 1 & -1 \\\\\n",
    "\\end{bmatrix}\n",
    "\\begin{bmatrix}\n",
    "x\\\\\n",
    "y\\\\\n",
    "z\\\\\n",
    "\\end{bmatrix}\n",
    "= \n",
    "\\begin{bmatrix}\n",
    "1\\\\\n",
    "2\\\\\n",
    "1\\\\\n",
    "\\end{bmatrix}\n",
    "$$\n",
    "\n",
    "$$A X = B$$\n",
    "\n",
    "\n",
    "A la matriz $A$ la llamaremos matriz del sistema, y definiremos la matriz aumentada $AB$ como la matriz que tiene las mismas columnas de $A$, más los elementos de $B$ como una columna adicional:\n",
    "\n",
    "$$\n",
    "AB =\n",
    "\\begin{bmatrix}\n",
    "3 & 2 & 1 & 1\\\\\n",
    "5 & 3 & 4 & 2 \\\\\n",
    "1 & 1 & -1 & 1 \\\\\n",
    "\\end{bmatrix}\n",
    "$$\n",
    "\n",
    "recordemos que podemos saber si un sistema tiene solución usando el siguiente teorema:\n",
    "\n",
    "- Un sistema de m ecuaciones con n incógnitas $AX = B$ tiene solución si y solo si $rg(A) = rg(A|B) = r$, y en este caso si $r = n$, entonces el sistema tiene una única solución, y si $r < n$ el sistema tiene infinitas soluciones.\n",
    "\n",
    "\n",
    "\n",
    "\n",
    "\n",
    "\n"
   ]
  },
  {
   "cell_type": "code",
   "execution_count": null,
   "id": "2e32a766",
   "metadata": {},
   "outputs": [],
   "source": []
  },
  {
   "cell_type": "markdown",
   "id": "446d1290",
   "metadata": {},
   "source": [
    "La matriz cuadrada de la expresión anterior se conoce como la matriz asociada al sistema, si el determinante de dicha matriz es distinto de 0, podemos garantizar que existe $A^{-1}$ y podemos escribir:\n",
    "\n",
    "$$ A^{-1} A X = A^{-1} B $$\n",
    "$$ I_n X = A^{-1} B$$\n",
    "$$ X = A^{-1} B $$\n",
    "\n",
    "Al realizar el producto $A^{-1} B$ obtendremos la solución al sistema\n",
    "\n",
    "En Numpy dentro de la subpaquetería _linalg_ tenemos la función _solve_ que nos ayuda a resolver sistemas de ecuaciones\n"
   ]
  },
  {
   "cell_type": "code",
   "execution_count": null,
   "id": "91363406",
   "metadata": {},
   "outputs": [],
   "source": []
  },
  {
   "cell_type": "markdown",
   "id": "c318184d",
   "metadata": {},
   "source": [
    "<h3>Ejercicios</h3>\n",
    "\n",
    "- En el aula de Alberto hay un total de $27$ alumnos, habiendo el doble de chicas que de chicos. ¿Cuántos chicos y chicas hay en la clase de Alberto?"
   ]
  },
  {
   "cell_type": "code",
   "execution_count": null,
   "id": "d90728aa",
   "metadata": {},
   "outputs": [],
   "source": []
  },
  {
   "cell_type": "markdown",
   "id": "7917a6d9",
   "metadata": {},
   "source": [
    "- Luis invirtió una parte de los $\\$8000$ de sus ahorros en un plan con un $3\\%$ de rentabilidad anual y la otra parte la invierte en un plan con un $5\\%$ de rentabilidad anual.\n",
    "\n",
    "¿Cuánto dinero invirtió Luis en cada plan si después de un año tiene $\\$8340$?"
   ]
  },
  {
   "cell_type": "code",
   "execution_count": null,
   "id": "c7f3c5c1",
   "metadata": {},
   "outputs": [],
   "source": []
  },
  {
   "cell_type": "markdown",
   "id": "f8c65464",
   "metadata": {},
   "source": [
    "- Un cliente de un supermercado ha pagado un total de $\\$156$ por $24l$ de leche, $6kg$ de jamón serrano y $12l$ de aceite de oliva. Calcular el precio de cada artículo, sabiendo que $1l$ de aceite cuesta el triple que $1l$ de leche\n",
    "y que $1kg$ de jamón cuesta igual que $4l$ de aceite más $4l$ de leche."
   ]
  },
  {
   "cell_type": "code",
   "execution_count": null,
   "id": "e5735569",
   "metadata": {},
   "outputs": [],
   "source": []
  },
  {
   "cell_type": "markdown",
   "id": "2e8b4009",
   "metadata": {},
   "source": [
    "$$\\vec{x}$$"
   ]
  },
  {
   "cell_type": "markdown",
   "id": "12d0d50c",
   "metadata": {},
   "source": [
    "$$ SV[\\vec{x}] = \\{ \\vec{v} | \\vec{v} = a \\vec{x} \\text{ para algún  } a \\in \\mathbb{R} \\} \\subset \\mathbb{R}^2 $$"
   ]
  },
  {
   "cell_type": "markdown",
   "id": "1523885e",
   "metadata": {},
   "source": [
    "<hr>\n",
    "<h2>Vectores y valores propios</h2>\n",
    "\n",
    "Los definiremos lo valores propios y vectores propios de una matriz cuadrada de la siguiente forma:\n",
    "\n",
    "$$ T \\vec{x} = \\lambda \\vec{x} $$\n",
    "\n",
    "Estos vectores son los llamados _vectores propios_ de $T$ y el valor $\\lambda$ que representa el factor de escalamiento del vector es llamado _valor propio_ de $T$. Podemos calcular los valores propios de una matriz cuadrada $T_n$ calculando primero el determinante de $T - \\lambda I$, que dara como resultado un polinomio de grado $n$, y luego encontrando las raíces de dicho polinomio.\n",
    "\n",
    "\n",
    "\n",
    "Empezaremos dando un sentido geométrico a los valores propios de una matriz cuadrada, pensemos por ejemplo en la matriz:\n",
    "\n",
    "$$\n",
    "T = \n",
    "\\begin{bmatrix}\n",
    "3 & 1\\\\\n",
    "0 & 2\\\\\n",
    "\\end{bmatrix}\n",
    "$$\n",
    "\n",
    "Y veamos la como una transformación lineal\n",
    "\n",
    "<img src=\"Transformación base canonica.gif\" width = 400 height = 400>\n",
    "\n",
    "Al fijarnos en u vector cualquiera vamos a fijarnos en su subespacio generado, es decir, en la recta que pasa sobre el:\n",
    "\n",
    "<img src=\"Transformación sobre subespacio generado.gif\" width = 400 height = 400>\n",
    "\n",
    "Podemos ver que la transformación saca al vector de su subespacio. Sin embargo hay algunos vectores a los que esto no les pasa.\n",
    "\n",
    "<img src=\"Transformación sobre un subespacio de un vector propio.gif\" width = 400 height = 400>\n",
    "\n",
    "Podemos ver que en el caso de esta matriz hay dos rectas sobre las cuales los vectores no son desviados, solo son escalados un factor $\\lambda$. \n",
    "\n",
    "<img src=\"Transformación sobre un subespacio de un vector propio 2.gif\" width = 400 height = 400>\n",
    "\n",
    "\n",
    "Es decir, aplicar la matriz $T$ a uno de estos vectores da como resultado un multiplo escalar del mismo vector:\n",
    "\n",
    "\n",
    "\n",
    "\n",
    "En Numpy dentro de _linalg_ tenemos las funciones _eig_ y _eigvals_ que nos ofrecen, devuelven una tupla con los valores propios, y otra de vectores propios para la primera, y un array de valores propios la segunda.\n"
   ]
  },
  {
   "cell_type": "code",
   "execution_count": 2,
   "id": "815bffcf",
   "metadata": {},
   "outputs": [],
   "source": [
    "import numpy as np"
   ]
  },
  {
   "cell_type": "code",
   "execution_count": 8,
   "id": "6616923a",
   "metadata": {},
   "outputs": [],
   "source": [
    "T= np.array([[3,1],[0,2]])\n"
   ]
  },
  {
   "cell_type": "code",
   "execution_count": 9,
   "id": "ecf8aba2",
   "metadata": {},
   "outputs": [
    {
     "data": {
      "text/plain": [
       "array([3., 2.])"
      ]
     },
     "execution_count": 9,
     "metadata": {},
     "output_type": "execute_result"
    }
   ],
   "source": [
    "np.linalg.eigvals(T)"
   ]
  },
  {
   "cell_type": "code",
   "execution_count": 10,
   "id": "9a538a8b",
   "metadata": {},
   "outputs": [],
   "source": [
    "val,vec=np.linalg.eig(T)"
   ]
  },
  {
   "cell_type": "code",
   "execution_count": 11,
   "id": "21cf05dd",
   "metadata": {},
   "outputs": [
    {
     "data": {
      "text/plain": [
       "0.9999999999999999"
      ]
     },
     "execution_count": 11,
     "metadata": {},
     "output_type": "execute_result"
    }
   ],
   "source": [
    "np.linalg.norm(vec[:,1])"
   ]
  },
  {
   "cell_type": "code",
   "execution_count": null,
   "id": "0efbde05",
   "metadata": {},
   "outputs": [],
   "source": [
    "$$\n",
    "\\alpha =\n",
    "begin{bmatrix}\n",
    "1\\\\\n",
    "0\\\\\n",
    "\\end{bmatrix}\n"
   ]
  },
  {
   "cell_type": "markdown",
   "id": "0b66cf61",
   "metadata": {},
   "source": [
    "# "
   ]
  },
  {
   "cell_type": "code",
   "execution_count": null,
   "id": "f04706a0",
   "metadata": {},
   "outputs": [],
   "source": []
  },
  {
   "cell_type": "code",
   "execution_count": null,
   "id": "099c603d",
   "metadata": {},
   "outputs": [],
   "source": []
  },
  {
   "cell_type": "markdown",
   "id": "b921ad9b",
   "metadata": {},
   "source": [
    "Un resultado importante es que si $A_n$ tiene $n$ valores propios diferentes, entonces los vectores propios asociados a dichos valores son linealmente independientes, y podemos usarlos como una nueva base del espacio vectorial, que tiene la peculiaridad de que si vemos la matriz $A_n$ escrita en esa base, se convierte en una [matriz diagonal](#Glosario) que tiene en la diagonal los valores propios:\n",
    "\n",
    "$$\n",
    "D = \n",
    "\\begin{bmatrix}\n",
    "\\lambda_1 & 0 & \\cdots & 0\\\\\n",
    "0 & \\lambda_2 & \\cdots & 0\\\\\n",
    "\\cdots & \\cdots & \\ddots & \\cdots \\\\\n",
    "0 & 0 & \\cdots & \\lambda_n\\\\\n",
    "\\end{bmatrix}\n",
    "$$\n",
    "\n",
    "\n",
    "Y esta matriz la podemos expresar como:\n",
    "\n",
    "$$D = M^{-1}AM$$\n",
    "\n",
    "\n",
    "Donde M es la matriz que tiene por columnas los vectores propios de A"
   ]
  },
  {
   "cell_type": "code",
   "execution_count": 13,
   "id": "acb38c01",
   "metadata": {},
   "outputs": [],
   "source": [
    "A= np.random.randint(1,10,(4,4))"
   ]
  },
  {
   "cell_type": "code",
   "execution_count": 14,
   "id": "05f4ea7b",
   "metadata": {},
   "outputs": [
    {
     "data": {
      "text/plain": [
       "array([[8, 3, 7, 4],\n",
       "       [1, 3, 5, 5],\n",
       "       [9, 1, 2, 6],\n",
       "       [2, 2, 2, 3]])"
      ]
     },
     "execution_count": 14,
     "metadata": {},
     "output_type": "execute_result"
    }
   ],
   "source": [
    "A"
   ]
  },
  {
   "cell_type": "code",
   "execution_count": 15,
   "id": "a293c5e0",
   "metadata": {},
   "outputs": [],
   "source": [
    "vals,vecs = np.linalg.eig(A)"
   ]
  },
  {
   "cell_type": "code",
   "execution_count": 17,
   "id": "0fc4c283",
   "metadata": {},
   "outputs": [
    {
     "data": {
      "text/plain": [
       "array([[-0.70655607+0.j        , -0.40503292+0.j        ,\n",
       "        -0.27327925+0.06462083j, -0.27327925-0.06462083j],\n",
       "       [-0.35199805+0.j        ,  0.75895494+0.j        ,\n",
       "        -0.71807986+0.j        , -0.71807986-0.j        ],\n",
       "       [-0.56449569+0.j        , -0.29195406+0.j        ,\n",
       "         0.59943489-0.14034771j,  0.59943489+0.14034771j],\n",
       "       [-0.24128927+0.j        ,  0.41796956+0.j        ,\n",
       "         0.15532471+0.0485642j ,  0.15532471-0.0485642j ]])"
      ]
     },
     "execution_count": 17,
     "metadata": {},
     "output_type": "execute_result"
    }
   ],
   "source": [
    "vecs"
   ]
  },
  {
   "cell_type": "code",
   "execution_count": 19,
   "id": "9ebd5520",
   "metadata": {},
   "outputs": [],
   "source": [
    "D= np.linalg.inv(vecs) @ A @ vecs"
   ]
  },
  {
   "cell_type": "code",
   "execution_count": 20,
   "id": "aabf5906",
   "metadata": {},
   "outputs": [
    {
     "data": {
      "text/plain": [
       "array([[ 1.64531453e+01-2.19960136e-15j,  1.77635684e-15+1.36034036e-15j,\n",
       "        -2.66453526e-15+3.33066907e-16j, -2.66453526e-15+3.33066907e-16j],\n",
       "       [-1.22124533e-15+3.84284759e-15j,  3.29651902e+00-1.50424951e-15j,\n",
       "         1.38777878e-15-1.05471187e-15j,  1.55431223e-15+4.71844785e-16j],\n",
       "       [ 1.37390099e-15-1.99840144e-15j, -8.60422844e-16+4.44089210e-15j,\n",
       "        -1.87483215e+00+5.49098653e-01j,  1.11022302e-16-1.11022302e-15j],\n",
       "       [ 4.85722573e-16+6.43929354e-15j, -4.16333634e-16-6.66133815e-15j,\n",
       "         3.33066907e-16-8.88178420e-16j, -1.87483215e+00-5.49098653e-01j]])"
      ]
     },
     "execution_count": 20,
     "metadata": {},
     "output_type": "execute_result"
    }
   ],
   "source": [
    "D"
   ]
  },
  {
   "cell_type": "code",
   "execution_count": 21,
   "id": "838b2ae7",
   "metadata": {},
   "outputs": [
    {
     "data": {
      "text/plain": [
       "array([[16.453-0.j   ,  0.   +0.j   , -0.   +0.j   , -0.   +0.j   ],\n",
       "       [-0.   +0.j   ,  3.297-0.j   ,  0.   -0.j   ,  0.   +0.j   ],\n",
       "       [ 0.   -0.j   , -0.   +0.j   , -1.875+0.549j,  0.   -0.j   ],\n",
       "       [ 0.   +0.j   , -0.   -0.j   ,  0.   -0.j   , -1.875-0.549j]])"
      ]
     },
     "execution_count": 21,
     "metadata": {},
     "output_type": "execute_result"
    }
   ],
   "source": [
    "np.round(D,3)"
   ]
  },
  {
   "cell_type": "code",
   "execution_count": 22,
   "id": "a6ea7eef",
   "metadata": {},
   "outputs": [
    {
     "data": {
      "text/plain": [
       "array([16.45314529+0.j        ,  3.29651902+0.j        ,\n",
       "       -1.87483215+0.54909865j, -1.87483215-0.54909865j])"
      ]
     },
     "execution_count": 22,
     "metadata": {},
     "output_type": "execute_result"
    }
   ],
   "source": [
    "vals"
   ]
  },
  {
   "cell_type": "code",
   "execution_count": null,
   "id": "c1d93490",
   "metadata": {},
   "outputs": [],
   "source": []
  },
  {
   "cell_type": "code",
   "execution_count": null,
   "id": "667ef0b1",
   "metadata": {},
   "outputs": [],
   "source": []
  },
  {
   "cell_type": "markdown",
   "id": "a5e39bf7",
   "metadata": {},
   "source": [
    "<h2>Modelo de Leslie</h2>\n",
    "\n",
    "Hay muchas formas de modelar el comportamiento de una población determinada, para mostrar cómo trabaja el modelo de Leslie vamos a dar un ejemplo. Imaginemos una población de insectos que tiene una esperanza de vida máxima de 4 años, los agruparemos en cuatro categorías:\n",
    "\n",
    "|Edad(años)|Población|Tasa de natalidad (individuos por año)|Probabilidad de sobrevivir|\n",
    "|:--------:|:--------|:------------------------------------:|:------------------------:|\n",
    "|0-1       |   30    |0|0.7|\n",
    "|1-2       |35       |4|0.5|\n",
    "|2-3       | 25      |2|0.2|\n",
    "|3-4       |10       |1|0.0|\n",
    "\n",
    "\n",
    "cada categoría tiene su propia tasa de natalidad expresada en individuos nacidos por año y una probabilidad de sobrevivir y ascender a la siguiente categoría. Si queremos saber cuántos individuos tendrán edades entre 0 y 1 años después de un año, es decir todos los individuos que nacieron durante ese año, tendríamos que calcularlo de la siguiente manera:\n",
    "\n",
    "- cada uno de los 30 individuos de la categoría _0-1_ tiene 0 descendientes, en total 30 * 0 = 0\n",
    "- cada uno de los 35 individuos de la categoría _1-2_ tiene 4 descendientes, en total 35 * 4 = 140\n",
    "- cada uno de los 25 individuos de la categoría _2-3_ tiene 2 descendientes, en total 25 * 2 = 50\n",
    "- cada uno de los 10 individuos de la categoría _3-4_ tiene 1 descendientes, en total 10 * 1 = 10\n",
    "\n",
    "Esto nos da un total de 200 nacidos en después de un año. Ahora imaginemos que queremos saber cuántos individuos entre 1 y 2 años de edad tendremos después de 1 año. En este caso haríamos lo siguiente:\n",
    "\n",
    "- El 70% de los individuos de la primer categoría sobrevivieron para alcanzar la segunda, es decir:  30 * 0.7 = 21 \n",
    "\n",
    "Este análisis se puede simplificar enormemente usando una matriz de Leslie, la matriz de Leslie es una matriz cuadrada, su primer renglón está formado por las tasas de natalidad de todas las categorías, los demás elementos son 0 excepto los elementos de la diagonal menor que contienen las probabilidades de supervivencia.\n",
    "\n",
    "$$\n",
    "L =\n",
    "\\begin{bmatrix}\n",
    "0 & 4 & 2 & 1\\\\\n",
    "0.7 & 0 & 0 & 0\\\\\n",
    "0 & 0.5 & 0 & 0\\\\\n",
    "0 & 0 & 0.2 & 0\\\\\n",
    "\\end{bmatrix}\n",
    "$$\n",
    "\n",
    "Esta matriz, junto con un vector columna con la población inicial de cada categoría, nos facilita mucho el análisis de la dinámica de la población. Sea $\\vec{x_0}$ el vector de poblaciones iniciales:\n",
    "\n",
    "$$\n",
    "\\vec{x_0} = \n",
    "\\begin{bmatrix}\n",
    "30\\\\\n",
    "35\\\\\n",
    "25\\\\\n",
    "10\n",
    "\\end{bmatrix}\n",
    "$$\n",
    "\n",
    "Podemos calcular la población después de un año $\\vec{x_1}$ haciendo $\\vec{x_1} = L \\vec{x_0}$\n",
    "\n",
    "$$\n",
    "\\vec{x_1} = \n",
    "\\begin{bmatrix}\n",
    "0 & 4 & 2 & 1\\\\\n",
    "0.7 & 0 & 0 & 0\\\\\n",
    "0 & 0.5 & 0 & 0\\\\\n",
    "0 & 0 & 0.2 & 0\\\\\n",
    "\\end{bmatrix}\n",
    "\\begin{bmatrix}\n",
    "30\\\\\n",
    "35\\\\\n",
    "25\\\\\n",
    "10\n",
    "\\end{bmatrix}\n",
    "=\n",
    "\\begin{bmatrix}\n",
    "200\\\\\n",
    "21\\\\\n",
    "17.5\\\\\n",
    "5\n",
    "\\end{bmatrix}\n",
    "$$\n",
    "\n",
    "En general, conocer la población después de $n$ años simplemente lo hacemos calculando:\n",
    "\n",
    "$$ \\vec{x_n} = L^n \\vec{x_0}$$\n",
    "\n",
    "\n",
    "La matriz de Leslie tiene la propiedad de tener un único valor característico positivo $\\lambda_1$ que representa la tasa de crecimiento de la población, si $\\lambda_1 < 1$ la población disminuye y si $\\lambda_1 > 1$ esta aumenta.\n",
    "\n",
    "\n",
    "\n"
   ]
  },
  {
   "cell_type": "code",
   "execution_count": 24,
   "id": "1bd3105e",
   "metadata": {},
   "outputs": [],
   "source": [
    "L=np.array([[0,4,2,1],[0.7,0,0,0],[0,0.5,0,0],[0,0,0.2,0]])"
   ]
  },
  {
   "cell_type": "code",
   "execution_count": 25,
   "id": "c41d0940",
   "metadata": {},
   "outputs": [
    {
     "data": {
      "text/plain": [
       "array([[0. , 4. , 2. , 1. ],\n",
       "       [0.7, 0. , 0. , 0. ],\n",
       "       [0. , 0.5, 0. , 0. ],\n",
       "       [0. , 0. , 0.2, 0. ]])"
      ]
     },
     "execution_count": 25,
     "metadata": {},
     "output_type": "execute_result"
    }
   ],
   "source": [
    "L"
   ]
  },
  {
   "cell_type": "code",
   "execution_count": 27,
   "id": "e346ce0c",
   "metadata": {},
   "outputs": [],
   "source": [
    "x=np.array([30,36,25,10])"
   ]
  },
  {
   "cell_type": "code",
   "execution_count": 28,
   "id": "a773bacc",
   "metadata": {},
   "outputs": [
    {
     "data": {
      "text/plain": [
       "array([125. , 142.8,  10.5,   3.6])"
      ]
     },
     "execution_count": 28,
     "metadata": {},
     "output_type": "execute_result"
    }
   ],
   "source": [
    "L @ L @ x  #poblaciòn a dos años"
   ]
  },
  {
   "cell_type": "code",
   "execution_count": 30,
   "id": "41047490",
   "metadata": {},
   "outputs": [
    {
     "data": {
      "text/latex": [
       "$\\displaystyle \\left[\\begin{matrix}1.79230295271384\\\\-1.54119328165428\\\\-0.125554835529783 + 0.0978637807690939 i\\\\-0.125554835529783 - 0.0978637807690939 i\\end{matrix}\\right]$"
      ],
      "text/plain": [
       "Matrix([\n",
       "[                         1.79230295271384],\n",
       "[                        -1.54119328165428],\n",
       "[-0.125554835529783 + 0.0978637807690939*I],\n",
       "[-0.125554835529783 - 0.0978637807690939*I]])"
      ]
     },
     "execution_count": 30,
     "metadata": {},
     "output_type": "execute_result"
    }
   ],
   "source": [
    "Matrix(np.linalg.eigvals(L))"
   ]
  },
  {
   "cell_type": "code",
   "execution_count": 31,
   "id": "3e7c98fa",
   "metadata": {},
   "outputs": [],
   "source": [
    "def pob_leslie(n,L,x0):\n",
    "    if n==0:\n",
    "        return x0\n",
    "    elif n==1:\n",
    "        return L @ x0\n",
    "    else:\n",
    "        return L @ pob_leslie(n-1,L,x0)"
   ]
  },
  {
   "cell_type": "code",
   "execution_count": 33,
   "id": "6ad3dc58",
   "metadata": {},
   "outputs": [
    {
     "data": {
      "text/plain": [
       "array([595.8,  87.5,  71.4,   2.1])"
      ]
     },
     "execution_count": 33,
     "metadata": {},
     "output_type": "execute_result"
    }
   ],
   "source": [
    "pob_leslie(3,L,x)"
   ]
  },
  {
   "cell_type": "code",
   "execution_count": 34,
   "id": "acb98189",
   "metadata": {},
   "outputs": [],
   "source": [
    "pob=[pob_leslie(i,L,x) for i in range(30)]"
   ]
  },
  {
   "cell_type": "code",
   "execution_count": 35,
   "id": "565b85cd",
   "metadata": {},
   "outputs": [],
   "source": [
    "pob1=[elem[0] for elem in pob]\n",
    "pob2=[elem[1] for elem in pob]\n",
    "pob3=[elem[2] for elem in pob]\n",
    "pob4=[elem[3] for elem in pob]\n"
   ]
  },
  {
   "cell_type": "code",
   "execution_count": 41,
   "id": "03bbd471",
   "metadata": {},
   "outputs": [
    {
     "data": {
      "image/png": "[encoded data removed]",
      "text/plain": [
       "<Figure size 864x432 with 1 Axes>"
      ]
     },
     "metadata": {
      "needs_background": "light"
     },
     "output_type": "display_data"
    }
   ],
   "source": [
    "fig,ax=plt.subplots(figsize=(12,6))\n",
    "\n",
    "x=np.arange(0,30)\n",
    "\n",
    "for i, elem in enumerate([pob1,pob2,pob3,pob4]):\n",
    "        ax.plot(x,elem,label='$P_{}$'.format(i+1))\n",
    "        \n",
    "ax.set_title(\"Population\")\n",
    "ax.set_xlabel('Years')\n",
    "ax.set_ylabel('Population')\n",
    "ax.legend();"
   ]
  },
  {
   "cell_type": "code",
   "execution_count": null,
   "id": "57e5ff21",
   "metadata": {},
   "outputs": [],
   "source": []
  },
  {
   "cell_type": "markdown",
   "id": "e503782e",
   "metadata": {},
   "source": [
    "#### Ejercicio\n",
    "\n",
    "Use una matriz de Leslie para estudiar el comportamiento de la siguiente población en los próximos 50 años, genere una gráfica que permita ver el comportamiento de cada intervalo de edades de forma independiente y otro que permita ver el comportamiento global de la población.\n",
    "\n",
    "- ¿La población crece sin medida?\n",
    "- Después de 30 años, ¿Cuál es el sector más numeroso de la población?\n",
    "\n",
    "\n",
    "|Edad(años)|Población inicial|Tasa de natalidad (individuos por año)|Probabilidad de sobrevivir|\n",
    "|:--------:|:---------------:|:------------------------------------:|:------------------------:|\n",
    "|0-5       |   100           |0|0.25|\n",
    "|5-10      |60               |1|0.5 |\n",
    "|10-15     | 20              |3|0.1 |\n",
    "|15-20     |10               |2|0.0 |\n",
    "\n"
   ]
  },
  {
   "cell_type": "code",
   "execution_count": null,
   "id": "926764e0",
   "metadata": {},
   "outputs": [],
   "source": []
  },
  {
   "cell_type": "markdown",
   "id": "9b6cbe8d",
   "metadata": {},
   "source": [
    "<h2>Modelo de Leontief (input-output)</h2>\n",
    "\n",
    "El método es utilizado para analizar las relaciones existentes entre diferentes sectores\n",
    "de producción y consumo que forman parte de la economía de una nación aunque\n",
    "en la actualidad puede ser usado en contextos más limitados, como por ejemplo,\n",
    "grandes empresas.\n",
    "\n",
    "El modelo supone que la economía a estudiar está formada por diferentes sectores\n",
    "de producción y de servicios. Existe una demanda interna que se tiene que atender\n",
    "y también una demanda externa que también hay que satisfacer.\n",
    "\n",
    "Supongamos la tabla siguiente que representa a las necesidades de demanda interna:\n",
    "\n",
    "|Producción/demanda|Agricultura|Manufactura|Servicios|Demanda Externa|Producción|\n",
    "|:----------------:|:---------:|:---------:|:-------:|:-------------:|:--------:|\n",
    "|Agricultura|600|400|1400|600|3000|\n",
    "|Manufactura|1500|800|700|1000|4000|\n",
    "|Servicios|900|2800|700|2600|7000|\n",
    "\n",
    "Para conocer que tanto necesita cada industria de las demás para llevar a cabo su producción nos apoyaremos de la matriz tecnológica denotada como $A$, la definimos como sigue:\n",
    "\n",
    "$$A = B X_p^{-1}$$\n",
    "\n",
    "Donde $X_p$ es la matriz diagonal que tiene por elementos la producción.\n",
    "\n",
    "$$\n",
    "A = \n",
    "\\begin{bmatrix}\n",
    "600&400&1400\\\\\n",
    "1500&800&700\\\\\n",
    "900&2800&700\\\\\n",
    "\\end{bmatrix}\n",
    "\\begin{bmatrix}\n",
    "\\frac{1}{3000}&0&0\\\\\n",
    "0&\\frac{1}{4000}&0\\\\\n",
    "0&0&\\frac{1}{7000}\\\\\n",
    "\\end{bmatrix}\n",
    "=\n",
    "\\begin{bmatrix}\n",
    "0.2&0.1&0.2\\\\\n",
    "0.5&0.2&0.1\\\\\n",
    "0.3&0.7&0.1\\\\\n",
    "\\end{bmatrix}\n",
    "$$\n",
    "\n",
    "\n",
    "Noten que la matriz tecnológica cumple que la suma de los valores de cada columna no puede ser mayor que 1, es decir:\n",
    "\n",
    "$$\\sum_{i = 1}^{n} a_{ij} \\leq 1$$\n",
    "\n",
    "\n",
    "Cada columna de la matriz tecnológica representa la demanda interna de la industria para producir 1 unidad de cada industria, es decir, en este ejemplo la primera columna representa la demanda interna pata producir 1 unidad del sector Agricultura, pero si en lugar que querer producir una unidad queremos producir $x_A$ unidades, tendremos que multiplicar dicha columna por $x_A$. Supongamos que la producción de cada industria es $x_A$, $x_M$, y $x_S$, entonces la demanda interna total la podemos expresar como sigue:\n",
    "\n",
    "$$\n",
    "x_A\n",
    "\\begin{bmatrix}\n",
    "0.2\\\\\n",
    "0.5\\\\\n",
    "0.3\\\\\n",
    "\\end{bmatrix}\n",
    "+\n",
    "x_M\n",
    "\\begin{bmatrix}\n",
    "0.1\\\\\n",
    "0.2\\\\\n",
    "0.7\\\\\n",
    "\\end{bmatrix}\n",
    "+\n",
    "x_S\n",
    "\\begin{bmatrix}\n",
    "0.2\\\\\n",
    "0.1\\\\\n",
    "0.1\\\\\n",
    "\\end{bmatrix}\n",
    "$$\n",
    "\n",
    "Que podemos expresar como un producto matricial de la siguiente forma:\n",
    "\n",
    "$$\n",
    "\\begin{bmatrix}\n",
    "0.2&0.1&0.2\\\\\n",
    "0.5&0.2&0.1\\\\\n",
    "0.3&0.7&0.1\\\\\n",
    "\\end{bmatrix}\n",
    "\\begin{bmatrix}\n",
    "x_A\\\\\n",
    "x_M\\\\\n",
    "x_S\\\\\n",
    "\\end{bmatrix}\n",
    "= AX\n",
    "$$\n",
    "\n",
    "\n",
    "\n",
    "A dicho producto lo llamaremos demanda interna. Ahora notemos que la producción total de las industrias debe de cubrir la demanda interna y la demanda externa al mismo tiempo, es decir:\n",
    "\n",
    "$$X = AX + D$$\n",
    "\n",
    "Esta es la ecuación de Leontief y al resolverla para $X$ podemos saber cual es la producción necesaria para cubrir una cierta demanda externa $D$.\n",
    "\n",
    "$$X - AX = D$$\n",
    "$$(I - A)X = D$$\n",
    "\n",
    "A la matriz $(I - A)$ se le conoce como matriz de Leontief, y si dicha matriz tiene inversa entonces podemos resolver la ecuación como:\n",
    "\n",
    "$$X = (I - A)^{-1}D$$"
   ]
  },
  {
   "cell_type": "markdown",
   "id": "efb3d194",
   "metadata": {},
   "source": [
    "<h3>Ejercicio</h3>\n",
    "\n",
    "\n",
    "- Generar una DF de 10 filas y 12 columnas, las filas representarán 10 industrias $I_n$, las columnas serán las 10 industrias, la demanda externa y la producción total, generar de forma aleatoria los valores de la tabla (las unidades de consumo de cada industria, la demanda externa y la producción total, recordando que la suma de las columnas no puede ser mayor que la producción total de cada empresa).\n",
    "\n",
    "- Obtener la matriz tecnológica del DF anterior\n",
    "\n",
    "- Suponga que en un estudio de mercado se determina que la demanda externa de las industrias va a cambiar según se expresa en el siguiente vector:\n",
    "\n",
    "$$\n",
    "\\begin{bmatrix}\n",
    "1.1\\\\\n",
    "0.3\\\\\n",
    "1.6\\\\\n",
    "1.0\\\\\n",
    "0.7\\\\\n",
    "0.5\\\\\n",
    "3.9\\\\\n",
    "1.2\\\\\n",
    "0.1\\\\\n",
    "2.4\\\\\n",
    "\\end{bmatrix}\n",
    "$$\n",
    "\n",
    "- obtener el vector de producción necesario para cumplir con la proyección"
   ]
  },
  {
   "cell_type": "code",
   "execution_count": null,
   "id": "1c7dfd19",
   "metadata": {},
   "outputs": [],
   "source": [
    "\n"
   ]
  }
 ],
 "metadata": {
  "kernelspec": {
   "display_name": "Python 3 (ipykernel)",
   "language": "python",
   "name": "python3"
  },
  "language_info": {
   "codemirror_mode": {
    "name": "ipython",
    "version": 3
   },
   "file_extension": ".py",
   "mimetype": "text/x-python",
   "name": "python",
   "nbconvert_exporter": "python",
   "pygments_lexer": "ipython3",
   "version": "3.9.7"
  },
  "varInspector": {
   "cols": {
    "lenName": 16,
    "lenType": 16,
    "lenVar": 40
   },
   "kernels_config": {
    "python": {
     "delete_cmd_postfix": "",
     "delete_cmd_prefix": "del ",
     "library": "var_list.py",
     "varRefreshCmd": "print(var_dic_list())"
    },
    "r": {
     "delete_cmd_postfix": ") ",
     "delete_cmd_prefix": "rm(",
     "library": "var_list.r",
     "varRefreshCmd": "cat(var_dic_list()) "
    }
   },
   "types_to_exclude": [
    "module",
    "function",
    "builtin_function_or_method",
    "instance",
    "_Feature"
   ],
   "window_display": false
  }
 },
 "nbformat": 4,
 "nbformat_minor": 5
}
